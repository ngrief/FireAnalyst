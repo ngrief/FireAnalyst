{
 "cells": [
  {
   "cell_type": "markdown",
   "metadata": {},
   "source": [
    "# California Wildfire Analysis (1878-2023)\n",
    "\n",
    "**Author:** FireAnalyst Research Team  \n",
    "**Date:** 2025  \n",
    "**Dataset:** California Fire Perimeters (historical)\n",
    "\n",
    "## Overview\n",
    "\n",
    "This notebook presents a comprehensive statistical analysis of California wildfire patterns from 1878 to 2023. The analysis examines:\n",
    "\n",
    "1. **Data Quality & Validation** - Comprehensive data cleaning and validation\n",
    "2. **Temporal Trends** - Long-term patterns in fire occurrence and severity\n",
    "3. **Seasonal Patterns** - Monthly distribution and seasonal effects\n",
    "4. **Fire Causes** - Analysis of ignition sources and human factors\n",
    "5. **Containment Effectiveness** - Evaluation of suppression methods\n",
    "6. **Statistical Testing** - Hypothesis tests and confidence intervals\n",
    "\n",
    "---"
   ]
  },
  {
   "cell_type": "markdown",
   "metadata": {},
   "source": [
    "## 1. Setup and Configuration"
   ]
  },
  {
   "cell_type": "code",
   "execution_count": null,
   "metadata": {},
   "outputs": [],
   "source": [
    "# Import required modules\n",
    "import sys\n",
    "sys.path.insert(0, '.')\n",
    "\n",
    "import pandas as pd\n",
    "import numpy as np\n",
    "import matplotlib.pyplot as plt\n",
    "import seaborn as sns\n",
    "\n",
    "from src.data_processing import full_pipeline\n",
    "from src.analysis import (\n",
    "    calculate_containment_effectiveness,\n",
    "    analyze_containment_methods,\n",
    "    temporal_trend_analysis,\n",
    "    seasonal_analysis,\n",
    "    cause_analysis,\n",
    "    compare_decades,\n",
    "    summary_statistics,\n",
    "    generate_analysis_report\n",
    ")\n",
    "from src.visualization import (\n",
    "    plot_fires_over_time,\n",
    "    plot_peak_years,\n",
    "    plot_fires_by_decade,\n",
    "    plot_fire_area_by_decade,\n",
    "    plot_seasonality,\n",
    "    plot_cause_distribution,\n",
    "    plot_containment_effectiveness,\n",
    "    plot_fire_size_distribution,\n",
    "    generate_all_visualizations\n",
    ")\n",
    "\n",
    "# Configure display options\n",
    "pd.set_option('display.max_columns', None)\n",
    "pd.set_option('display.width', 120)\n",
    "pd.set_option('display.precision', 2)\n",
    "\n",
    "%matplotlib inline\n",
    "\n",
    "print(\"✓ Modules imported successfully\")"
   ]
  },
  {
   "cell_type": "markdown",
   "metadata": {},
   "source": [
    "## 2. Data Processing Pipeline\n",
    "\n",
    "Execute the complete data processing workflow including loading, cleaning, validation, and feature engineering."
   ]
  },
  {
   "cell_type": "code",
   "execution_count": null,
   "metadata": {},
   "outputs": [],
   "source": [
    "# Run the complete data processing pipeline\n",
    "df, validation_stats = full_pipeline(verbose=True)\n",
    "\n",
    "print(f\"\\n{'='*60}\")\n",
    "print(f\"Final dataset shape: {df.shape}\")\n",
    "print(f\"Columns: {list(df.columns)}\")\n",
    "print(f\"{'='*60}\")"
   ]
  },
  {
   "cell_type": "markdown",
   "metadata": {},
   "source": [
    "## 3. Summary Statistics\n",
    "\n",
    "Generate comprehensive descriptive statistics for the dataset."
   ]
  },
  {
   "cell_type": "code",
   "execution_count": null,
   "metadata": {},
   "outputs": [],
   "source": [
    "# Calculate summary statistics\n",
    "stats = summary_statistics(df)\n",
    "\n",
    "print(\"\\n\" + \"=\"*60)\n",
    "print(\"SUMMARY STATISTICS\")\n",
    "print(\"=\"*60)\n",
    "print(f\"Total fires analyzed: {stats['total_fires']:,}\")\n",
    "print(f\"Year range: {stats['year_range'][0]} - {stats['year_range'][1]}\")\n",
    "print(f\"\\nFire Size (acres):\")\n",
    "print(f\"  Total burned: {stats['total_acres_burned']:,.0f}\")\n",
    "print(f\"  Mean: {stats['mean_fire_size']:,.1f}\")\n",
    "print(f\"  Median: {stats['median_fire_size']:,.1f}\")\n",
    "print(f\"  Maximum: {stats['max_fire_size']:,.0f}\")\n",
    "print(f\"  95th percentile: {stats['p95_fire_size']:,.0f}\")\n",
    "print(f\"\\nContainment Duration:\")\n",
    "print(f\"  Mean: {stats['mean_containment_hours']:.1f} hours ({stats['mean_containment_hours']/24:.1f} days)\")\n",
    "print(f\"  Median: {stats['median_containment_hours']:.1f} hours ({stats['median_containment_hours']/24:.1f} days)\")\n",
    "print(\"=\"*60)\n",
    "\n",
    "# Display first few rows\n",
    "print(\"\\nSample data:\")\n",
    "df[['YEAR_', 'FIRE_NAME', 'GIS_ACRES', 'Containment_Duration', 'CAUSE_DESCRIPTION']].head(10)"
   ]
  },
  {
   "cell_type": "markdown",
   "metadata": {},
   "source": [
    "## 4. Temporal Trend Analysis\n",
    "\n",
    "Examine long-term trends in fire occurrence with statistical testing."
   ]
  },
  {
   "cell_type": "code",
   "execution_count": null,
   "metadata": {},
   "outputs": [],
   "source": [
    "# Analyze temporal trends\n",
    "yearly_stats, trend_test = temporal_trend_analysis(df)\n",
    "\n",
    "print(\"\\n\" + \"=\"*60)\n",
    "print(\"TEMPORAL TREND ANALYSIS\")\n",
    "print(\"=\"*60)\n",
    "print(f\"\\n{trend_test.interpretation}\")\n",
    "print(\"=\"*60)\n",
    "\n",
    "# Visualize trends\n",
    "fig = plot_fires_over_time(df, save=True)\n",
    "plt.show()\n",
    "\n",
    "# Peak years\n",
    "fig = plot_peak_years(df, top_n=10, save=True)\n",
    "plt.show()\n",
    "\n",
    "# Decadal trends\n",
    "fig = plot_fires_by_decade(df, save=True)\n",
    "plt.show()\n",
    "\n",
    "fig = plot_fire_area_by_decade(df, save=True)\n",
    "plt.show()"
   ]
  },
  {
   "cell_type": "markdown",
   "metadata": {},
   "source": [
    "## 5. Seasonal Pattern Analysis\n",
    "\n",
    "Investigate monthly patterns in fire occurrence and test for seasonal variation."
   ]
  },
  {
   "cell_type": "code",
   "execution_count": null,
   "metadata": {},
   "outputs": [],
   "source": [
    "# Analyze seasonal patterns\n",
    "monthly_stats, seasonal_test = seasonal_analysis(df)\n",
    "\n",
    "print(\"\\n\" + \"=\"*60)\n",
    "print(\"SEASONAL PATTERN ANALYSIS\")\n",
    "print(\"=\"*60)\n",
    "print(f\"\\n{seasonal_test.interpretation}\")\n",
    "print(\"\\nMonthly fire counts:\")\n",
    "print(monthly_stats)\n",
    "print(\"=\"*60)\n",
    "\n",
    "# Visualize seasonality\n",
    "fig = plot_seasonality(df, save=True)\n",
    "plt.show()"
   ]
  },
  {
   "cell_type": "markdown",
   "metadata": {},
   "source": [
    "## 6. Fire Cause Analysis\n",
    "\n",
    "Examine the distribution and characteristics of different fire causes."
   ]
  },
  {
   "cell_type": "code",
   "execution_count": null,
   "metadata": {},
   "outputs": [],
   "source": [
    "# Analyze fire causes\n",
    "cause_stats = cause_analysis(df)\n",
    "\n",
    "print(\"\\n\" + \"=\"*60)\n",
    "print(\"FIRE CAUSE ANALYSIS\")\n",
    "print(\"=\"*60)\n",
    "print(\"\\nTop 10 fire causes:\")\n",
    "print(cause_stats.head(10))\n",
    "print(\"=\"*60)\n",
    "\n",
    "# Visualize causes\n",
    "fig = plot_cause_distribution(df, top_n=10, save=True)\n",
    "plt.show()"
   ]
  },
  {
   "cell_type": "markdown",
   "metadata": {},
   "source": [
    "## 7. Containment Method Effectiveness\n",
    "\n",
    "**⚠️ IMPORTANT METHODOLOGICAL NOTE:**\n",
    "\n",
    "The effectiveness metric used here (acres/hour) has significant limitations:\n",
    "- It conflates fire size with suppression effectiveness\n",
    "- Larger fires naturally take longer to contain\n",
    "- Does not control for initial conditions, weather, or terrain\n",
    "\n",
    "Results should be interpreted cautiously and supplemented with size-controlled analyses."
   ]
  },
  {
   "cell_type": "code",
   "execution_count": null,
   "metadata": {},
   "outputs": [],
   "source": [
    "# Calculate effectiveness and analyze by method\n",
    "df_with_eff = calculate_containment_effectiveness(df)\n",
    "method_stats, anova_results = analyze_containment_methods(df_with_eff)\n",
    "\n",
    "print(\"\\n\" + \"=\"*60)\n",
    "print(\"CONTAINMENT METHOD ANALYSIS\")\n",
    "print(\"=\"*60)\n",
    "print(f\"\\n{anova_results['interpretation']}\")\n",
    "print(\"\\nMethod effectiveness (with 95% confidence intervals):\")\n",
    "print(method_stats[['Mean_Effectiveness', 'CI_Lower', 'CI_Upper', 'Count']])\n",
    "print(\"=\"*60)\n",
    "\n",
    "# Visualize effectiveness\n",
    "fig = plot_containment_effectiveness(method_stats, save=True)\n",
    "plt.show()"
   ]
  },
  {
   "cell_type": "markdown",
   "metadata": {},
   "source": [
    "## 8. Fire Size Distribution\n",
    "\n",
    "Examine the distribution of fire sizes to understand the data structure."
   ]
  },
  {
   "cell_type": "code",
   "execution_count": null,
   "metadata": {},
   "outputs": [],
   "source": [
    "# Visualize fire size distribution\n",
    "fig = plot_fire_size_distribution(df, save=True)\n",
    "plt.show()\n",
    "\n",
    "# Calculate percentiles\n",
    "percentiles = [50, 75, 90, 95, 99]\n",
    "print(\"\\nFire size percentiles:\")\n",
    "for p in percentiles:\n",
    "    value = df['GIS_ACRES'].quantile(p/100)\n",
    "    print(f\"  {p}th percentile: {value:,.1f} acres\")"
   ]
  },
  {
   "cell_type": "markdown",
   "metadata": {},
   "source": [
    "## 9. Comprehensive Analysis Report\n",
    "\n",
    "Generate a complete analysis report with all statistical tests."
   ]
  },
  {
   "cell_type": "code",
   "execution_count": null,
   "metadata": {},
   "outputs": [],
   "source": [
    "# Generate comprehensive report\n",
    "df_with_eff = calculate_containment_effectiveness(df)\n",
    "report = generate_analysis_report(df_with_eff)\n",
    "\n",
    "print(\"\\n\" + \"=\"*60)\n",
    "print(\"COMPREHENSIVE ANALYSIS REPORT\")\n",
    "print(\"=\"*60)\n",
    "\n",
    "print(\"\\n1. Summary Statistics:\")\n",
    "for key, value in report['summary_statistics'].items():\n",
    "    print(f\"  {key}: {value}\")\n",
    "\n",
    "print(\"\\n2. Temporal Trend Test:\")\n",
    "print(f\"  {report['temporal_analysis']['trend_test'].interpretation}\")\n",
    "\n",
    "print(\"\\n3. Seasonal Pattern Test:\")\n",
    "print(f\"  {report['seasonal_analysis']['test'].interpretation}\")\n",
    "\n",
    "print(\"\\n4. Containment Method ANOVA:\")\n",
    "if report['method_analysis']:\n",
    "    print(f\"  {report['method_analysis']['anova']['interpretation']}\")\n",
    "\n",
    "print(\"\\n5. Decade Comparison Test:\")\n",
    "print(f\"  {report['decade_comparison']['test']['interpretation']}\")\n",
    "\n",
    "print(\"\\n\" + \"=\"*60)"
   ]
  },
  {
   "cell_type": "markdown",
   "metadata": {},
   "source": [
    "## 10. Conclusions\n",
    "\n",
    "### Key Findings:\n",
    "\n",
    "1. **Data Quality:** The dataset spans 145+ years with comprehensive validation\n",
    "2. **Temporal Trends:** [Interpretation based on statistical tests]\n",
    "3. **Seasonality:** Fire occurrence shows strong seasonal patterns\n",
    "4. **Fire Causes:** Lightning and human factors are primary ignition sources\n",
    "5. **Containment Methods:** Statistical differences exist between methods (with caveats)\n",
    "\n",
    "### Methodological Limitations:\n",
    "\n",
    "- Effectiveness metric requires revision to control for fire size\n",
    "- Missing confounding variables (weather, vegetation, population density)\n",
    "- Temporal changes in reporting standards\n",
    "- No spatial analysis of geographic patterns\n",
    "\n",
    "### Future Work:\n",
    "\n",
    "1. Develop size-controlled effectiveness metrics\n",
    "2. Incorporate weather and environmental data\n",
    "3. Add predictive modeling for fire risk\n",
    "4. Perform spatial analysis with GIS data\n",
    "5. Conduct sensitivity analyses\n",
    "\n",
    "---\n",
    "\n",
    "**For full methodology and technical details, see `docs/latex/methodology.tex`**"
   ]
  }
 ],
 "metadata": {
  "kernelspec": {
   "display_name": "Python 3",
   "language": "python",
   "name": "python3"
  },
  "language_info": {
   "codemirror_mode": {
    "name": "ipython",
    "version": 3
   },
   "file_extension": ".py",
   "mimetype": "text/x-python",
   "name": "python",
   "nbconvert_exporter": "python",
   "pygments_lexer": "ipython3",
   "version": "3.12.4"
  }
 },
 "nbformat": 4,
 "nbformat_minor": 4
}